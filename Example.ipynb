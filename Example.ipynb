{
 "cells": [
  {
   "cell_type": "code",
   "execution_count": null,
   "id": "2767387b",
   "metadata": {},
   "outputs": [],
   "source": [
    "# import class \"Osmotic_Force_Simulation\" for the simulation\n",
    "from Osmotic_Force_Simulation import Osmotic_Force_Simulation"
   ]
  },
  {
   "cell_type": "markdown",
   "id": "716c675b",
   "metadata": {},
   "source": [
    "### Parameters of the simulation"
   ]
  },
  {
   "cell_type": "code",
   "execution_count": null,
   "id": "f072f3e8",
   "metadata": {},
   "outputs": [],
   "source": [
    "# Define the parameters of the simulation\n",
    "simulation_domain_size = [17,10]  # Size of the simulation domain in mkm\n",
    "\n",
    "# RBC width and height\n",
    "red_blood_cell_width = 7.0  # Width of the red blood cells in mkm\n",
    "red_blood_cell_height = 2.0  # Height of the red blood cells in mkm\n",
    "# the initial intersection between RBCs in percent\n",
    "set_initial_intersection = 5\n",
    "\n",
    "########\n",
    "# for the simulation = 'custom'\n",
    "########\n",
    "macromolecule_radius = 0.15  # Radius of the macromolecules in mkm\n",
    "num_macromolecules = 20000  # Number of macromolecules\n",
    "\n",
    "########\n",
    "# for the simulation = 'calc'\n",
    "########\n",
    "molecular_weight = 70_000 # molecular weight in Da\n",
    "molecule_concentration = 20.0 # concentration of macromolecules in mg/ml\n",
    "\n",
    "# time of the simulation in sec.\n",
    "simulation_time = 15\n",
    "# time step size\n",
    "time_step = 0.01  \n",
    "\n",
    "# temperature in Kelvin\n",
    "T = 500\n",
    "# viscosity in Pa*s\n",
    "viscosity = 1.2*10**(-3)\n",
    "\n",
    "# macromolecule size marker for the animation\n",
    "size_marker = 1"
   ]
  },
  {
   "cell_type": "code",
   "execution_count": null,
   "id": "9ccff0ac",
   "metadata": {},
   "outputs": [],
   "source": [
    "dict_for_the_class_ = {'sim_domain': simulation_domain_size, \n",
    "                      'R_mol': macromolecule_radius,\n",
    "                      'N_mol':num_macromolecules, \n",
    "                      'mol_weight':molecular_weight,\n",
    "                      'mol_concentration':molecule_concentration,\n",
    "                      'RBC_w': red_blood_cell_width, \n",
    "                      'RBC_h': red_blood_cell_height,\n",
    "                      'set_initial_intersection': set_initial_intersection,\n",
    "                      'sim_time': simulation_time, \n",
    "                      'dt': time_step,\n",
    "                      'T': T,\n",
    "                      'viscosity': viscosity,\n",
    "                      'size_marker': size_marker}"
   ]
  },
  {
   "cell_type": "markdown",
   "id": "65919f99",
   "metadata": {},
   "source": [
    "### Create the object of the simulation"
   ]
  },
  {
   "cell_type": "code",
   "execution_count": null,
   "id": "4416fe6a",
   "metadata": {},
   "outputs": [],
   "source": [
    "# simulation can be 'custom' or 'calc'\n",
    "first = Osmotic_Force_Simulation(dict_for_the_class_, simulation='custom', store_molecule_data = True)"
   ]
  },
  {
   "cell_type": "markdown",
   "id": "9dcc9187",
   "metadata": {},
   "source": [
    "### Initialize the simulation"
   ]
  },
  {
   "cell_type": "code",
   "execution_count": null,
   "id": "8a14aa60",
   "metadata": {},
   "outputs": [],
   "source": [
    "# you can initialize the simulation, i.e., the position of macromolecules and RBCs, and show the initial positions\n",
    "first.start(show_fig=True)"
   ]
  },
  {
   "cell_type": "markdown",
   "id": "f2fdddf2",
   "metadata": {},
   "source": [
    "### Run the simulation"
   ]
  },
  {
   "cell_type": "code",
   "execution_count": null,
   "id": "e367a393",
   "metadata": {},
   "outputs": [],
   "source": [
    "first.run()"
   ]
  },
  {
   "cell_type": "markdown",
   "id": "b05ad3cb",
   "metadata": {},
   "source": [
    "### Show positions of macromolecules and RBCs at the specific time "
   ]
  },
  {
   "cell_type": "code",
   "execution_count": null,
   "id": "d1b11534",
   "metadata": {},
   "outputs": [],
   "source": [
    "first.show(time_to_show=2)"
   ]
  },
  {
   "cell_type": "markdown",
   "id": "0e49149a",
   "metadata": {},
   "source": [
    "### Save the animation of the simulation"
   ]
  },
  {
   "cell_type": "code",
   "execution_count": null,
   "id": "8a47c461",
   "metadata": {},
   "outputs": [],
   "source": [
    "# file_name - name of the file\n",
    "# fps_in_persent - 100% is the real time\n",
    "# frame_step - If time_step is small, it should be increased\n",
    "# bitrate - bitrate of the final video\n",
    "first.animate(file_name='test', fps_in_persent=100, frame_step=10, bitrate=10000)"
   ]
  },
  {
   "cell_type": "markdown",
   "id": "46b0c0f1",
   "metadata": {},
   "source": [
    "### Plot the movement of RBC centers over time "
   ]
  },
  {
   "cell_type": "code",
   "execution_count": null,
   "id": "b1b1f2d5",
   "metadata": {},
   "outputs": [],
   "source": [
    "# save - save both figure and excel file of positions\n",
    "# title - create title with the initial parameters\n",
    "# name - the name of figure and excel file\n",
    "first.plot(save=True, title=True, name='temp')"
   ]
  },
  {
   "cell_type": "markdown",
   "id": "db1cbc0b",
   "metadata": {},
   "source": [
    "### Find the size of the massive in MB"
   ]
  },
  {
   "cell_type": "code",
   "execution_count": null,
   "id": "de6b0422",
   "metadata": {},
   "outputs": [],
   "source": [
    "first.size()"
   ]
  },
  {
   "cell_type": "markdown",
   "id": "b5890f89",
   "metadata": {},
   "source": [
    "### Del object to free memory"
   ]
  },
  {
   "cell_type": "code",
   "execution_count": null,
   "id": "1ee32376",
   "metadata": {},
   "outputs": [],
   "source": [
    "del first"
   ]
  }
 ],
 "metadata": {
  "kernelspec": {
   "display_name": "Python 3 (ipykernel)",
   "language": "python",
   "name": "python3"
  },
  "language_info": {
   "codemirror_mode": {
    "name": "ipython",
    "version": 3
   },
   "file_extension": ".py",
   "mimetype": "text/x-python",
   "name": "python",
   "nbconvert_exporter": "python",
   "pygments_lexer": "ipython3",
   "version": "3.10.13"
  }
 },
 "nbformat": 4,
 "nbformat_minor": 5
}
